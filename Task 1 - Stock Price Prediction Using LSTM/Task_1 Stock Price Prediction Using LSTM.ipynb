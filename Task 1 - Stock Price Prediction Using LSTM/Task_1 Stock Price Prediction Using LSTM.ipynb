{
 "cells": [
  {
   "cell_type": "markdown",
   "id": "c025a943",
   "metadata": {},
   "source": [
    "# DATA SCIENCE INTERN @BHARAT INTERN"
   ]
  },
  {
   "cell_type": "markdown",
   "id": "9d59812b",
   "metadata": {},
   "source": [
    "### AUTHOR : TUSHAR KUMAR"
   ]
  },
  {
   "cell_type": "markdown",
   "id": "00b402f2",
   "metadata": {},
   "source": [
    "# TASK 1 : STOCK PREDICTION"
   ]
  },
  {
   "cell_type": "markdown",
   "id": "f8e051f0",
   "metadata": {},
   "source": [
    "## PURPOSE : TO PREDICT THE STOCK PRICE OF A COMPANY USING LSTM."
   ]
  },
  {
   "cell_type": "markdown",
   "id": "6d67fee9",
   "metadata": {},
   "source": [
    "## ABOUT DATASET\n",
    "### Google Stock Prediction\n",
    "\n",
    "This dataset contains historical data of **Google's stock prices** and related attributes. It consists of 14 columns and a smaller subset of 1257 rows. Each column represents a specific attribute, and each row contains the corresponding values for that attribute.\n",
    "\n",
    "The columns in the dataset are as follows:\n",
    "\n",
    "1. **Symbol**: The name of the company, which is **GOOG** in this case.\n",
    "2. **Date**: The year and date of the stock data.\n",
    "3. **Close**: The closing price of Google's stock on a particular day.\n",
    "4. **High**: The highest value reached by Google's stock on the given day.\n",
    "5. **Low**: The lowest value reached by Google's stock on the given day.\n",
    "6. **Open**: The opening value of Google's stock on the given day.\n",
    "7. **Volume**: The trading volume of Google's stock on the given day, i.e., the number of shares traded.\n",
    "8. **adjClose**: The adjusted closing price of Google's stock, considering factors such as dividends and stock splits.\n",
    "9. **adjHigh**: The adjusted highest value reached by Google's stock on the given day.\n",
    "10. **adjLow**: The adjusted lowest value reached by Google's stock on the given day.\n",
    "11. **adjOpen**: The adjusted opening value of Google's stock on the given day.\n",
    "12. **adjVolume**: The adjusted trading volume of Google's stock on the given day, accounting for factors such as stock splits.\n",
    "13. **divCash**: The amount of cash dividend paid out to shareholders on the given day.\n",
    "14. **splitFactor**: The split factor, if any, applied to Google's stock on the given day. A split factor of 1 indicates no split.\n",
    "\n",
    "The dataset is available at Kaggle : https://www.kaggle.com/datasets/shreenidhihipparagi/google-stock-prediction"
   ]
  },
  {
   "cell_type": "markdown",
   "id": "5ec3be7e",
   "metadata": {},
   "source": [
    "## STEPS INVOLVED : \n",
    "### 1 . IMPORTING LIBRARIES AND DATA TO BE USED\n",
    "### 2. GATHERING INSIGHTS\n",
    "### 3. DATA PRE-PROCESSING\n",
    "### 4. CREATING LSTM MODEL\n",
    "### 5. VISUALIZING ACTUAL VS PREDICTED DATA\n",
    "### 6. PREDICTING UPCOMING 15 DAYS"
   ]
  },
  {
   "cell_type": "markdown",
   "id": "6901025f",
   "metadata": {},
   "source": []
  },
  {
   "cell_type": "markdown",
   "id": "67f14f64",
   "metadata": {},
   "source": [
    "## STEP 1 : IMPORTING LIBRARIES AND DATA TO BE USED"
   ]
  },
  {
   "cell_type": "code",
   "execution_count": 42,
   "id": "f6fe173f",
   "metadata": {},
   "outputs": [],
   "source": [
    "#importing libraries to be used\n",
    "import numpy as np # for linear algebra\n",
    "import pandas as pd # data preprocessing\n",
    "import matplotlib.pyplot as plt # data visualization library\n",
    "import seaborn as sns # data visualization library\n",
    "%matplotlib inline\n",
    "import warnings\n",
    "warnings.filterwarnings('ignore') # ignore warnings \n",
    "\n",
    "from sklearn.preprocessing import MinMaxScaler # for normalization\n",
    "from keras.models import Sequential\n",
    "from keras.layers import Dense, Dropout, LSTM, Bidirectional"
   ]
  },
  {
   "cell_type": "code",
   "execution_count": 43,
   "id": "0310c3d2",
   "metadata": {},
   "outputs": [
    {
     "data": {
      "text/html": [
       "<div>\n",
       "<style scoped>\n",
       "    .dataframe tbody tr th:only-of-type {\n",
       "        vertical-align: middle;\n",
       "    }\n",
       "\n",
       "    .dataframe tbody tr th {\n",
       "        vertical-align: top;\n",
       "    }\n",
       "\n",
       "    .dataframe thead th {\n",
       "        text-align: right;\n",
       "    }\n",
       "</style>\n",
       "<table border=\"1\" class=\"dataframe\">\n",
       "  <thead>\n",
       "    <tr style=\"text-align: right;\">\n",
       "      <th></th>\n",
       "      <th>symbol</th>\n",
       "      <th>date</th>\n",
       "      <th>close</th>\n",
       "      <th>high</th>\n",
       "      <th>low</th>\n",
       "      <th>open</th>\n",
       "      <th>volume</th>\n",
       "      <th>adjClose</th>\n",
       "      <th>adjHigh</th>\n",
       "      <th>adjLow</th>\n",
       "      <th>adjOpen</th>\n",
       "      <th>adjVolume</th>\n",
       "      <th>divCash</th>\n",
       "      <th>splitFactor</th>\n",
       "    </tr>\n",
       "  </thead>\n",
       "  <tbody>\n",
       "    <tr>\n",
       "      <th>0</th>\n",
       "      <td>GOOG</td>\n",
       "      <td>2016-06-14 00:00:00+00:00</td>\n",
       "      <td>718.27</td>\n",
       "      <td>722.47</td>\n",
       "      <td>713.1200</td>\n",
       "      <td>716.48</td>\n",
       "      <td>1306065</td>\n",
       "      <td>718.27</td>\n",
       "      <td>722.47</td>\n",
       "      <td>713.1200</td>\n",
       "      <td>716.48</td>\n",
       "      <td>1306065</td>\n",
       "      <td>0.0</td>\n",
       "      <td>1.0</td>\n",
       "    </tr>\n",
       "    <tr>\n",
       "      <th>1</th>\n",
       "      <td>GOOG</td>\n",
       "      <td>2016-06-15 00:00:00+00:00</td>\n",
       "      <td>718.92</td>\n",
       "      <td>722.98</td>\n",
       "      <td>717.3100</td>\n",
       "      <td>719.00</td>\n",
       "      <td>1214517</td>\n",
       "      <td>718.92</td>\n",
       "      <td>722.98</td>\n",
       "      <td>717.3100</td>\n",
       "      <td>719.00</td>\n",
       "      <td>1214517</td>\n",
       "      <td>0.0</td>\n",
       "      <td>1.0</td>\n",
       "    </tr>\n",
       "    <tr>\n",
       "      <th>2</th>\n",
       "      <td>GOOG</td>\n",
       "      <td>2016-06-16 00:00:00+00:00</td>\n",
       "      <td>710.36</td>\n",
       "      <td>716.65</td>\n",
       "      <td>703.2600</td>\n",
       "      <td>714.91</td>\n",
       "      <td>1982471</td>\n",
       "      <td>710.36</td>\n",
       "      <td>716.65</td>\n",
       "      <td>703.2600</td>\n",
       "      <td>714.91</td>\n",
       "      <td>1982471</td>\n",
       "      <td>0.0</td>\n",
       "      <td>1.0</td>\n",
       "    </tr>\n",
       "    <tr>\n",
       "      <th>3</th>\n",
       "      <td>GOOG</td>\n",
       "      <td>2016-06-17 00:00:00+00:00</td>\n",
       "      <td>691.72</td>\n",
       "      <td>708.82</td>\n",
       "      <td>688.4515</td>\n",
       "      <td>708.65</td>\n",
       "      <td>3402357</td>\n",
       "      <td>691.72</td>\n",
       "      <td>708.82</td>\n",
       "      <td>688.4515</td>\n",
       "      <td>708.65</td>\n",
       "      <td>3402357</td>\n",
       "      <td>0.0</td>\n",
       "      <td>1.0</td>\n",
       "    </tr>\n",
       "    <tr>\n",
       "      <th>4</th>\n",
       "      <td>GOOG</td>\n",
       "      <td>2016-06-20 00:00:00+00:00</td>\n",
       "      <td>693.71</td>\n",
       "      <td>702.48</td>\n",
       "      <td>693.4100</td>\n",
       "      <td>698.77</td>\n",
       "      <td>2082538</td>\n",
       "      <td>693.71</td>\n",
       "      <td>702.48</td>\n",
       "      <td>693.4100</td>\n",
       "      <td>698.77</td>\n",
       "      <td>2082538</td>\n",
       "      <td>0.0</td>\n",
       "      <td>1.0</td>\n",
       "    </tr>\n",
       "    <tr>\n",
       "      <th>5</th>\n",
       "      <td>GOOG</td>\n",
       "      <td>2016-06-21 00:00:00+00:00</td>\n",
       "      <td>695.94</td>\n",
       "      <td>702.77</td>\n",
       "      <td>692.0100</td>\n",
       "      <td>698.40</td>\n",
       "      <td>1465634</td>\n",
       "      <td>695.94</td>\n",
       "      <td>702.77</td>\n",
       "      <td>692.0100</td>\n",
       "      <td>698.40</td>\n",
       "      <td>1465634</td>\n",
       "      <td>0.0</td>\n",
       "      <td>1.0</td>\n",
       "    </tr>\n",
       "    <tr>\n",
       "      <th>6</th>\n",
       "      <td>GOOG</td>\n",
       "      <td>2016-06-22 00:00:00+00:00</td>\n",
       "      <td>697.46</td>\n",
       "      <td>700.86</td>\n",
       "      <td>693.0819</td>\n",
       "      <td>699.06</td>\n",
       "      <td>1184318</td>\n",
       "      <td>697.46</td>\n",
       "      <td>700.86</td>\n",
       "      <td>693.0819</td>\n",
       "      <td>699.06</td>\n",
       "      <td>1184318</td>\n",
       "      <td>0.0</td>\n",
       "      <td>1.0</td>\n",
       "    </tr>\n",
       "    <tr>\n",
       "      <th>7</th>\n",
       "      <td>GOOG</td>\n",
       "      <td>2016-06-23 00:00:00+00:00</td>\n",
       "      <td>701.87</td>\n",
       "      <td>701.95</td>\n",
       "      <td>687.0000</td>\n",
       "      <td>697.45</td>\n",
       "      <td>2171415</td>\n",
       "      <td>701.87</td>\n",
       "      <td>701.95</td>\n",
       "      <td>687.0000</td>\n",
       "      <td>697.45</td>\n",
       "      <td>2171415</td>\n",
       "      <td>0.0</td>\n",
       "      <td>1.0</td>\n",
       "    </tr>\n",
       "    <tr>\n",
       "      <th>8</th>\n",
       "      <td>GOOG</td>\n",
       "      <td>2016-06-24 00:00:00+00:00</td>\n",
       "      <td>675.22</td>\n",
       "      <td>689.40</td>\n",
       "      <td>673.4500</td>\n",
       "      <td>675.17</td>\n",
       "      <td>4449022</td>\n",
       "      <td>675.22</td>\n",
       "      <td>689.40</td>\n",
       "      <td>673.4500</td>\n",
       "      <td>675.17</td>\n",
       "      <td>4449022</td>\n",
       "      <td>0.0</td>\n",
       "      <td>1.0</td>\n",
       "    </tr>\n",
       "    <tr>\n",
       "      <th>9</th>\n",
       "      <td>GOOG</td>\n",
       "      <td>2016-06-27 00:00:00+00:00</td>\n",
       "      <td>668.26</td>\n",
       "      <td>672.30</td>\n",
       "      <td>663.2840</td>\n",
       "      <td>671.00</td>\n",
       "      <td>2641085</td>\n",
       "      <td>668.26</td>\n",
       "      <td>672.30</td>\n",
       "      <td>663.2840</td>\n",
       "      <td>671.00</td>\n",
       "      <td>2641085</td>\n",
       "      <td>0.0</td>\n",
       "      <td>1.0</td>\n",
       "    </tr>\n",
       "  </tbody>\n",
       "</table>\n",
       "</div>"
      ],
      "text/plain": [
       "  symbol                       date   close    high       low    open  \\\n",
       "0   GOOG  2016-06-14 00:00:00+00:00  718.27  722.47  713.1200  716.48   \n",
       "1   GOOG  2016-06-15 00:00:00+00:00  718.92  722.98  717.3100  719.00   \n",
       "2   GOOG  2016-06-16 00:00:00+00:00  710.36  716.65  703.2600  714.91   \n",
       "3   GOOG  2016-06-17 00:00:00+00:00  691.72  708.82  688.4515  708.65   \n",
       "4   GOOG  2016-06-20 00:00:00+00:00  693.71  702.48  693.4100  698.77   \n",
       "5   GOOG  2016-06-21 00:00:00+00:00  695.94  702.77  692.0100  698.40   \n",
       "6   GOOG  2016-06-22 00:00:00+00:00  697.46  700.86  693.0819  699.06   \n",
       "7   GOOG  2016-06-23 00:00:00+00:00  701.87  701.95  687.0000  697.45   \n",
       "8   GOOG  2016-06-24 00:00:00+00:00  675.22  689.40  673.4500  675.17   \n",
       "9   GOOG  2016-06-27 00:00:00+00:00  668.26  672.30  663.2840  671.00   \n",
       "\n",
       "    volume  adjClose  adjHigh    adjLow  adjOpen  adjVolume  divCash  \\\n",
       "0  1306065    718.27   722.47  713.1200   716.48    1306065      0.0   \n",
       "1  1214517    718.92   722.98  717.3100   719.00    1214517      0.0   \n",
       "2  1982471    710.36   716.65  703.2600   714.91    1982471      0.0   \n",
       "3  3402357    691.72   708.82  688.4515   708.65    3402357      0.0   \n",
       "4  2082538    693.71   702.48  693.4100   698.77    2082538      0.0   \n",
       "5  1465634    695.94   702.77  692.0100   698.40    1465634      0.0   \n",
       "6  1184318    697.46   700.86  693.0819   699.06    1184318      0.0   \n",
       "7  2171415    701.87   701.95  687.0000   697.45    2171415      0.0   \n",
       "8  4449022    675.22   689.40  673.4500   675.17    4449022      0.0   \n",
       "9  2641085    668.26   672.30  663.2840   671.00    2641085      0.0   \n",
       "\n",
       "   splitFactor  \n",
       "0          1.0  \n",
       "1          1.0  \n",
       "2          1.0  \n",
       "3          1.0  \n",
       "4          1.0  \n",
       "5          1.0  \n",
       "6          1.0  \n",
       "7          1.0  \n",
       "8          1.0  \n",
       "9          1.0  "
      ]
     },
     "execution_count": 43,
     "metadata": {},
     "output_type": "execute_result"
    }
   ],
   "source": [
    "df = pd.read_csv('Google Stocks.csv') # data_importing\n",
    "df.head(10) # fetching first 10 rows of dataset"
   ]
  },
  {
   "cell_type": "markdown",
   "id": "e9f948f7",
   "metadata": {},
   "source": [
    "## STEP 2 : GATHERING INSIGHTS"
   ]
  },
  {
   "cell_type": "code",
   "execution_count": 44,
   "id": "c56f5d52",
   "metadata": {},
   "outputs": [
    {
     "name": "stdout",
     "output_type": "stream",
     "text": [
      "Shape of data: (1258, 14)\n"
     ]
    }
   ],
   "source": [
    "# shape of data\n",
    "print(\"Shape of data:\",df.shape)"
   ]
  },
  {
   "cell_type": "code",
   "execution_count": 45,
   "id": "dec59878",
   "metadata": {},
   "outputs": [
    {
     "data": {
      "text/html": [
       "<div>\n",
       "<style scoped>\n",
       "    .dataframe tbody tr th:only-of-type {\n",
       "        vertical-align: middle;\n",
       "    }\n",
       "\n",
       "    .dataframe tbody tr th {\n",
       "        vertical-align: top;\n",
       "    }\n",
       "\n",
       "    .dataframe thead th {\n",
       "        text-align: right;\n",
       "    }\n",
       "</style>\n",
       "<table border=\"1\" class=\"dataframe\">\n",
       "  <thead>\n",
       "    <tr style=\"text-align: right;\">\n",
       "      <th></th>\n",
       "      <th>close</th>\n",
       "      <th>high</th>\n",
       "      <th>low</th>\n",
       "      <th>open</th>\n",
       "      <th>volume</th>\n",
       "      <th>adjClose</th>\n",
       "      <th>adjHigh</th>\n",
       "      <th>adjLow</th>\n",
       "      <th>adjOpen</th>\n",
       "      <th>adjVolume</th>\n",
       "      <th>divCash</th>\n",
       "      <th>splitFactor</th>\n",
       "    </tr>\n",
       "  </thead>\n",
       "  <tbody>\n",
       "    <tr>\n",
       "      <th>count</th>\n",
       "      <td>1258.000000</td>\n",
       "      <td>1258.000000</td>\n",
       "      <td>1258.000000</td>\n",
       "      <td>1258.000000</td>\n",
       "      <td>1.258000e+03</td>\n",
       "      <td>1258.000000</td>\n",
       "      <td>1258.000000</td>\n",
       "      <td>1258.000000</td>\n",
       "      <td>1258.000000</td>\n",
       "      <td>1.258000e+03</td>\n",
       "      <td>1258.0</td>\n",
       "      <td>1258.0</td>\n",
       "    </tr>\n",
       "    <tr>\n",
       "      <th>mean</th>\n",
       "      <td>1216.317067</td>\n",
       "      <td>1227.430934</td>\n",
       "      <td>1204.176430</td>\n",
       "      <td>1215.260779</td>\n",
       "      <td>1.601590e+06</td>\n",
       "      <td>1216.317067</td>\n",
       "      <td>1227.430936</td>\n",
       "      <td>1204.176436</td>\n",
       "      <td>1215.260779</td>\n",
       "      <td>1.601590e+06</td>\n",
       "      <td>0.0</td>\n",
       "      <td>1.0</td>\n",
       "    </tr>\n",
       "    <tr>\n",
       "      <th>std</th>\n",
       "      <td>383.333358</td>\n",
       "      <td>387.570872</td>\n",
       "      <td>378.777094</td>\n",
       "      <td>382.446995</td>\n",
       "      <td>6.960172e+05</td>\n",
       "      <td>383.333358</td>\n",
       "      <td>387.570873</td>\n",
       "      <td>378.777099</td>\n",
       "      <td>382.446995</td>\n",
       "      <td>6.960172e+05</td>\n",
       "      <td>0.0</td>\n",
       "      <td>0.0</td>\n",
       "    </tr>\n",
       "    <tr>\n",
       "      <th>min</th>\n",
       "      <td>668.260000</td>\n",
       "      <td>672.300000</td>\n",
       "      <td>663.284000</td>\n",
       "      <td>671.000000</td>\n",
       "      <td>3.467530e+05</td>\n",
       "      <td>668.260000</td>\n",
       "      <td>672.300000</td>\n",
       "      <td>663.284000</td>\n",
       "      <td>671.000000</td>\n",
       "      <td>3.467530e+05</td>\n",
       "      <td>0.0</td>\n",
       "      <td>1.0</td>\n",
       "    </tr>\n",
       "    <tr>\n",
       "      <th>25%</th>\n",
       "      <td>960.802500</td>\n",
       "      <td>968.757500</td>\n",
       "      <td>952.182500</td>\n",
       "      <td>959.005000</td>\n",
       "      <td>1.173522e+06</td>\n",
       "      <td>960.802500</td>\n",
       "      <td>968.757500</td>\n",
       "      <td>952.182500</td>\n",
       "      <td>959.005000</td>\n",
       "      <td>1.173522e+06</td>\n",
       "      <td>0.0</td>\n",
       "      <td>1.0</td>\n",
       "    </tr>\n",
       "    <tr>\n",
       "      <th>50%</th>\n",
       "      <td>1132.460000</td>\n",
       "      <td>1143.935000</td>\n",
       "      <td>1117.915000</td>\n",
       "      <td>1131.150000</td>\n",
       "      <td>1.412588e+06</td>\n",
       "      <td>1132.460000</td>\n",
       "      <td>1143.935000</td>\n",
       "      <td>1117.915000</td>\n",
       "      <td>1131.150000</td>\n",
       "      <td>1.412588e+06</td>\n",
       "      <td>0.0</td>\n",
       "      <td>1.0</td>\n",
       "    </tr>\n",
       "    <tr>\n",
       "      <th>75%</th>\n",
       "      <td>1360.595000</td>\n",
       "      <td>1374.345000</td>\n",
       "      <td>1348.557500</td>\n",
       "      <td>1361.075000</td>\n",
       "      <td>1.812156e+06</td>\n",
       "      <td>1360.595000</td>\n",
       "      <td>1374.345000</td>\n",
       "      <td>1348.557500</td>\n",
       "      <td>1361.075000</td>\n",
       "      <td>1.812156e+06</td>\n",
       "      <td>0.0</td>\n",
       "      <td>1.0</td>\n",
       "    </tr>\n",
       "    <tr>\n",
       "      <th>max</th>\n",
       "      <td>2521.600000</td>\n",
       "      <td>2526.990000</td>\n",
       "      <td>2498.290000</td>\n",
       "      <td>2524.920000</td>\n",
       "      <td>6.207027e+06</td>\n",
       "      <td>2521.600000</td>\n",
       "      <td>2526.990000</td>\n",
       "      <td>2498.290000</td>\n",
       "      <td>2524.920000</td>\n",
       "      <td>6.207027e+06</td>\n",
       "      <td>0.0</td>\n",
       "      <td>1.0</td>\n",
       "    </tr>\n",
       "  </tbody>\n",
       "</table>\n",
       "</div>"
      ],
      "text/plain": [
       "             close         high          low         open        volume  \\\n",
       "count  1258.000000  1258.000000  1258.000000  1258.000000  1.258000e+03   \n",
       "mean   1216.317067  1227.430934  1204.176430  1215.260779  1.601590e+06   \n",
       "std     383.333358   387.570872   378.777094   382.446995  6.960172e+05   \n",
       "min     668.260000   672.300000   663.284000   671.000000  3.467530e+05   \n",
       "25%     960.802500   968.757500   952.182500   959.005000  1.173522e+06   \n",
       "50%    1132.460000  1143.935000  1117.915000  1131.150000  1.412588e+06   \n",
       "75%    1360.595000  1374.345000  1348.557500  1361.075000  1.812156e+06   \n",
       "max    2521.600000  2526.990000  2498.290000  2524.920000  6.207027e+06   \n",
       "\n",
       "          adjClose      adjHigh       adjLow      adjOpen     adjVolume  \\\n",
       "count  1258.000000  1258.000000  1258.000000  1258.000000  1.258000e+03   \n",
       "mean   1216.317067  1227.430936  1204.176436  1215.260779  1.601590e+06   \n",
       "std     383.333358   387.570873   378.777099   382.446995  6.960172e+05   \n",
       "min     668.260000   672.300000   663.284000   671.000000  3.467530e+05   \n",
       "25%     960.802500   968.757500   952.182500   959.005000  1.173522e+06   \n",
       "50%    1132.460000  1143.935000  1117.915000  1131.150000  1.412588e+06   \n",
       "75%    1360.595000  1374.345000  1348.557500  1361.075000  1.812156e+06   \n",
       "max    2521.600000  2526.990000  2498.290000  2524.920000  6.207027e+06   \n",
       "\n",
       "       divCash  splitFactor  \n",
       "count   1258.0       1258.0  \n",
       "mean       0.0          1.0  \n",
       "std        0.0          0.0  \n",
       "min        0.0          1.0  \n",
       "25%        0.0          1.0  \n",
       "50%        0.0          1.0  \n",
       "75%        0.0          1.0  \n",
       "max        0.0          1.0  "
      ]
     },
     "execution_count": 45,
     "metadata": {},
     "output_type": "execute_result"
    }
   ],
   "source": [
    "# statistical description of data\n",
    "df.describe()"
   ]
  },
  {
   "cell_type": "code",
   "execution_count": 46,
   "id": "1f78fdf3",
   "metadata": {},
   "outputs": [
    {
     "name": "stdout",
     "output_type": "stream",
     "text": [
      "<class 'pandas.core.frame.DataFrame'>\n",
      "RangeIndex: 1258 entries, 0 to 1257\n",
      "Data columns (total 14 columns):\n",
      " #   Column       Non-Null Count  Dtype  \n",
      "---  ------       --------------  -----  \n",
      " 0   symbol       1258 non-null   object \n",
      " 1   date         1258 non-null   object \n",
      " 2   close        1258 non-null   float64\n",
      " 3   high         1258 non-null   float64\n",
      " 4   low          1258 non-null   float64\n",
      " 5   open         1258 non-null   float64\n",
      " 6   volume       1258 non-null   int64  \n",
      " 7   adjClose     1258 non-null   float64\n",
      " 8   adjHigh      1258 non-null   float64\n",
      " 9   adjLow       1258 non-null   float64\n",
      " 10  adjOpen      1258 non-null   float64\n",
      " 11  adjVolume    1258 non-null   int64  \n",
      " 12  divCash      1258 non-null   float64\n",
      " 13  splitFactor  1258 non-null   float64\n",
      "dtypes: float64(10), int64(2), object(2)\n",
      "memory usage: 137.7+ KB\n"
     ]
    }
   ],
   "source": [
    "# summary of data\n",
    "df.info()"
   ]
  },
  {
   "cell_type": "code",
   "execution_count": 47,
   "id": "4e9bcc70",
   "metadata": {},
   "outputs": [
    {
     "data": {
      "text/plain": [
       "symbol         0\n",
       "date           0\n",
       "close          0\n",
       "high           0\n",
       "low            0\n",
       "open           0\n",
       "volume         0\n",
       "adjClose       0\n",
       "adjHigh        0\n",
       "adjLow         0\n",
       "adjOpen        0\n",
       "adjVolume      0\n",
       "divCash        0\n",
       "splitFactor    0\n",
       "dtype: int64"
      ]
     },
     "execution_count": 47,
     "metadata": {},
     "output_type": "execute_result"
    }
   ],
   "source": [
    "# checking null values\n",
    "df.isnull().sum()"
   ]
  },
  {
   "cell_type": "markdown",
   "id": "1db53322",
   "metadata": {},
   "source": [
    "### There are no null values in the dataset"
   ]
  },
  {
   "cell_type": "code",
   "execution_count": 48,
   "id": "e45349ad",
   "metadata": {},
   "outputs": [
    {
     "data": {
      "text/html": [
       "<div>\n",
       "<style scoped>\n",
       "    .dataframe tbody tr th:only-of-type {\n",
       "        vertical-align: middle;\n",
       "    }\n",
       "\n",
       "    .dataframe tbody tr th {\n",
       "        vertical-align: top;\n",
       "    }\n",
       "\n",
       "    .dataframe thead th {\n",
       "        text-align: right;\n",
       "    }\n",
       "</style>\n",
       "<table border=\"1\" class=\"dataframe\">\n",
       "  <thead>\n",
       "    <tr style=\"text-align: right;\">\n",
       "      <th></th>\n",
       "      <th>open</th>\n",
       "      <th>close</th>\n",
       "    </tr>\n",
       "    <tr>\n",
       "      <th>date</th>\n",
       "      <th></th>\n",
       "      <th></th>\n",
       "    </tr>\n",
       "  </thead>\n",
       "  <tbody>\n",
       "    <tr>\n",
       "      <th>2016-06-14</th>\n",
       "      <td>716.48</td>\n",
       "      <td>718.27</td>\n",
       "    </tr>\n",
       "    <tr>\n",
       "      <th>2016-06-15</th>\n",
       "      <td>719.00</td>\n",
       "      <td>718.92</td>\n",
       "    </tr>\n",
       "    <tr>\n",
       "      <th>2016-06-16</th>\n",
       "      <td>714.91</td>\n",
       "      <td>710.36</td>\n",
       "    </tr>\n",
       "    <tr>\n",
       "      <th>2016-06-17</th>\n",
       "      <td>708.65</td>\n",
       "      <td>691.72</td>\n",
       "    </tr>\n",
       "    <tr>\n",
       "      <th>2016-06-20</th>\n",
       "      <td>698.77</td>\n",
       "      <td>693.71</td>\n",
       "    </tr>\n",
       "    <tr>\n",
       "      <th>2016-06-21</th>\n",
       "      <td>698.40</td>\n",
       "      <td>695.94</td>\n",
       "    </tr>\n",
       "    <tr>\n",
       "      <th>2016-06-22</th>\n",
       "      <td>699.06</td>\n",
       "      <td>697.46</td>\n",
       "    </tr>\n",
       "    <tr>\n",
       "      <th>2016-06-23</th>\n",
       "      <td>697.45</td>\n",
       "      <td>701.87</td>\n",
       "    </tr>\n",
       "    <tr>\n",
       "      <th>2016-06-24</th>\n",
       "      <td>675.17</td>\n",
       "      <td>675.22</td>\n",
       "    </tr>\n",
       "    <tr>\n",
       "      <th>2016-06-27</th>\n",
       "      <td>671.00</td>\n",
       "      <td>668.26</td>\n",
       "    </tr>\n",
       "  </tbody>\n",
       "</table>\n",
       "</div>"
      ],
      "text/plain": [
       "              open   close\n",
       "date                      \n",
       "2016-06-14  716.48  718.27\n",
       "2016-06-15  719.00  718.92\n",
       "2016-06-16  714.91  710.36\n",
       "2016-06-17  708.65  691.72\n",
       "2016-06-20  698.77  693.71\n",
       "2016-06-21  698.40  695.94\n",
       "2016-06-22  699.06  697.46\n",
       "2016-06-23  697.45  701.87\n",
       "2016-06-24  675.17  675.22\n",
       "2016-06-27  671.00  668.26"
      ]
     },
     "execution_count": 48,
     "metadata": {},
     "output_type": "execute_result"
    }
   ],
   "source": [
    "df = df[['date','open','close']] # Extracting required columns\n",
    "df['date'] = pd.to_datetime(df['date'].apply(lambda x: x.split()[0])) # converting object dtype of date column to datetime dtype\n",
    "df.set_index('date',drop=True,inplace=True) # Setting date column as index\n",
    "df.head(10)"
   ]
  },
  {
   "cell_type": "code",
   "execution_count": 49,
   "id": "9b83eebb",
   "metadata": {},
   "outputs": [
    {
     "data": {
      "image/png": "[encoded data removed]",
      "text/plain": [
       "<Figure size 1440x504 with 2 Axes>"
      ]
     },
     "metadata": {
      "needs_background": "light"
     },
     "output_type": "display_data"
    }
   ],
   "source": [
    "# plotting open and closing price on date index\n",
    "fig, ax =plt.subplots(1,2,figsize=(20,7))\n",
    "ax[0].plot(df['open'],label='Open',color='green')\n",
    "ax[0].set_xlabel('Date',size=15)\n",
    "ax[0].set_ylabel('Price',size=15)\n",
    "ax[0].legend()\n",
    "\n",
    "ax[1].plot(df['close'],label='Close',color='red')\n",
    "ax[1].set_xlabel('Date',size=15)\n",
    "ax[1].set_ylabel('Price',size=15)\n",
    "ax[1].legend()\n",
    "\n",
    "fig.show()"
   ]
  },
  {
   "cell_type": "markdown",
   "id": "f77919e0",
   "metadata": {},
   "source": [
    "## STEP 3 : DATA PRE-PROCESSING"
   ]
  },
  {
   "cell_type": "code",
   "execution_count": 50,
   "id": "39a1a201",
   "metadata": {},
   "outputs": [
    {
     "data": {
      "text/html": [
       "<div>\n",
       "<style scoped>\n",
       "    .dataframe tbody tr th:only-of-type {\n",
       "        vertical-align: middle;\n",
       "    }\n",
       "\n",
       "    .dataframe tbody tr th {\n",
       "        vertical-align: top;\n",
       "    }\n",
       "\n",
       "    .dataframe thead th {\n",
       "        text-align: right;\n",
       "    }\n",
       "</style>\n",
       "<table border=\"1\" class=\"dataframe\">\n",
       "  <thead>\n",
       "    <tr style=\"text-align: right;\">\n",
       "      <th></th>\n",
       "      <th>open</th>\n",
       "      <th>close</th>\n",
       "    </tr>\n",
       "    <tr>\n",
       "      <th>date</th>\n",
       "      <th></th>\n",
       "      <th></th>\n",
       "    </tr>\n",
       "  </thead>\n",
       "  <tbody>\n",
       "    <tr>\n",
       "      <th>2016-06-14</th>\n",
       "      <td>0.024532</td>\n",
       "      <td>0.026984</td>\n",
       "    </tr>\n",
       "    <tr>\n",
       "      <th>2016-06-15</th>\n",
       "      <td>0.025891</td>\n",
       "      <td>0.027334</td>\n",
       "    </tr>\n",
       "    <tr>\n",
       "      <th>2016-06-16</th>\n",
       "      <td>0.023685</td>\n",
       "      <td>0.022716</td>\n",
       "    </tr>\n",
       "    <tr>\n",
       "      <th>2016-06-17</th>\n",
       "      <td>0.020308</td>\n",
       "      <td>0.012658</td>\n",
       "    </tr>\n",
       "    <tr>\n",
       "      <th>2016-06-20</th>\n",
       "      <td>0.014979</td>\n",
       "      <td>0.013732</td>\n",
       "    </tr>\n",
       "    <tr>\n",
       "      <th>2016-06-21</th>\n",
       "      <td>0.014779</td>\n",
       "      <td>0.014935</td>\n",
       "    </tr>\n",
       "    <tr>\n",
       "      <th>2016-06-22</th>\n",
       "      <td>0.015135</td>\n",
       "      <td>0.015755</td>\n",
       "    </tr>\n",
       "    <tr>\n",
       "      <th>2016-06-23</th>\n",
       "      <td>0.014267</td>\n",
       "      <td>0.018135</td>\n",
       "    </tr>\n",
       "    <tr>\n",
       "      <th>2016-06-24</th>\n",
       "      <td>0.002249</td>\n",
       "      <td>0.003755</td>\n",
       "    </tr>\n",
       "    <tr>\n",
       "      <th>2016-06-27</th>\n",
       "      <td>0.000000</td>\n",
       "      <td>0.000000</td>\n",
       "    </tr>\n",
       "  </tbody>\n",
       "</table>\n",
       "</div>"
      ],
      "text/plain": [
       "                open     close\n",
       "date                          \n",
       "2016-06-14  0.024532  0.026984\n",
       "2016-06-15  0.025891  0.027334\n",
       "2016-06-16  0.023685  0.022716\n",
       "2016-06-17  0.020308  0.012658\n",
       "2016-06-20  0.014979  0.013732\n",
       "2016-06-21  0.014779  0.014935\n",
       "2016-06-22  0.015135  0.015755\n",
       "2016-06-23  0.014267  0.018135\n",
       "2016-06-24  0.002249  0.003755\n",
       "2016-06-27  0.000000  0.000000"
      ]
     },
     "execution_count": 50,
     "metadata": {},
     "output_type": "execute_result"
    }
   ],
   "source": [
    "# normalizing all the values of all columns using MinMaxScaler\n",
    "MMS = MinMaxScaler()\n",
    "df[df.columns] = MMS.fit_transform(df)\n",
    "df.head(10)"
   ]
  },
  {
   "cell_type": "code",
   "execution_count": 51,
   "id": "568d3072",
   "metadata": {},
   "outputs": [
    {
     "data": {
      "text/plain": [
       "944"
      ]
     },
     "execution_count": 51,
     "metadata": {},
     "output_type": "execute_result"
    }
   ],
   "source": [
    "# splitting the data into training and test set\n",
    "training_size = round(len(df) * 0.75) # Selecting 75 % for training and 25 % for testing\n",
    "training_size"
   ]
  },
  {
   "cell_type": "code",
   "execution_count": 52,
   "id": "4c507274",
   "metadata": {},
   "outputs": [
    {
     "data": {
      "text/plain": [
       "((944, 2), (314, 2))"
      ]
     },
     "execution_count": 52,
     "metadata": {},
     "output_type": "execute_result"
    }
   ],
   "source": [
    "train_data = df[:training_size]\n",
    "test_data  = df[training_size:]\n",
    "\n",
    "train_data.shape, test_data.shape"
   ]
  },
  {
   "cell_type": "code",
   "execution_count": 53,
   "id": "c3d05650",
   "metadata": {},
   "outputs": [],
   "source": [
    "# Function to create sequence of data for training and testing\n",
    "\n",
    "def create_sequence(dataset):\n",
    "  sequences = []\n",
    "  labels = []\n",
    "\n",
    "  start_idx = 0\n",
    "\n",
    "  for stop_idx in range(50,len(dataset)): # Selecting 50 rows at a time\n",
    "    sequences.append(dataset.iloc[start_idx:stop_idx])\n",
    "    labels.append(dataset.iloc[stop_idx])\n",
    "    start_idx += 1\n",
    "  return (np.array(sequences),np.array(labels))"
   ]
  },
  {
   "cell_type": "code",
   "execution_count": 54,
   "id": "6c41f27f",
   "metadata": {},
   "outputs": [
    {
     "data": {
      "text/plain": [
       "((894, 50, 2), (894, 2), (264, 50, 2), (264, 2))"
      ]
     },
     "execution_count": 54,
     "metadata": {},
     "output_type": "execute_result"
    }
   ],
   "source": [
    "train_seq, train_label = create_sequence(train_data) \n",
    "test_seq, test_label = create_sequence(test_data)\n",
    "train_seq.shape, train_label.shape, test_seq.shape, test_label.shape"
   ]
  },
  {
   "cell_type": "markdown",
   "id": "32f37ed4",
   "metadata": {},
   "source": [
    "## STEP 4 :  CREATING LSTM MODEL"
   ]
  },
  {
   "cell_type": "code",
   "execution_count": 55,
   "id": "46aa3643",
   "metadata": {},
   "outputs": [
    {
     "name": "stdout",
     "output_type": "stream",
     "text": [
      "Model: \"sequential_1\"\n",
      "_________________________________________________________________\n",
      " Layer (type)                Output Shape              Param #   \n",
      "=================================================================\n",
      " lstm_2 (LSTM)               (None, 50, 50)            10600     \n",
      "                                                                 \n",
      " dropout_1 (Dropout)         (None, 50, 50)            0         \n",
      "                                                                 \n",
      " lstm_3 (LSTM)               (None, 50)                20200     \n",
      "                                                                 \n",
      " dense_1 (Dense)             (None, 2)                 102       \n",
      "                                                                 \n",
      "=================================================================\n",
      "Total params: 30,902\n",
      "Trainable params: 30,902\n",
      "Non-trainable params: 0\n",
      "_________________________________________________________________\n"
     ]
    }
   ],
   "source": [
    "# imported Sequential from keras.models \n",
    "model = Sequential()\n",
    "# importing Dense, Dropout, LSTM, Bidirectional from keras.layers \n",
    "model.add(LSTM(units=50, return_sequences=True, input_shape = (train_seq.shape[1], train_seq.shape[2])))\n",
    "\n",
    "model.add(Dropout(0.1)) \n",
    "model.add(LSTM(units=50))\n",
    "\n",
    "model.add(Dense(2))\n",
    "\n",
    "model.compile(loss='mean_squared_error', optimizer='adam', metrics=['mean_absolute_error'])\n",
    "\n",
    "model.summary()"
   ]
  },
  {
   "cell_type": "code",
   "execution_count": 56,
   "id": "2308278a",
   "metadata": {
    "scrolled": true
   },
   "outputs": [
    {
     "name": "stdout",
     "output_type": "stream",
     "text": [
      "Epoch 1/100\n",
      "28/28 [==============================] - 6s 76ms/step - loss: 0.0075 - mean_absolute_error: 0.0615 - val_loss: 0.0177 - val_mean_absolute_error: 0.1109\n",
      "Epoch 2/100\n",
      "28/28 [==============================] - 1s 36ms/step - loss: 7.4780e-04 - mean_absolute_error: 0.0213 - val_loss: 0.0036 - val_mean_absolute_error: 0.0456\n",
      "Epoch 3/100\n",
      "28/28 [==============================] - 1s 37ms/step - loss: 5.1931e-04 - mean_absolute_error: 0.0167 - val_loss: 0.0063 - val_mean_absolute_error: 0.0636\n",
      "Epoch 4/100\n",
      "28/28 [==============================] - 1s 42ms/step - loss: 4.8920e-04 - mean_absolute_error: 0.0166 - val_loss: 0.0051 - val_mean_absolute_error: 0.0564\n",
      "Epoch 5/100\n",
      "28/28 [==============================] - 1s 34ms/step - loss: 4.5922e-04 - mean_absolute_error: 0.0155 - val_loss: 0.0068 - val_mean_absolute_error: 0.0673\n",
      "Epoch 6/100\n",
      "28/28 [==============================] - 1s 32ms/step - loss: 4.8714e-04 - mean_absolute_error: 0.0163 - val_loss: 0.0041 - val_mean_absolute_error: 0.0488\n",
      "Epoch 7/100\n",
      "28/28 [==============================] - 1s 33ms/step - loss: 4.3301e-04 - mean_absolute_error: 0.0154 - val_loss: 0.0038 - val_mean_absolute_error: 0.0476\n",
      "Epoch 8/100\n",
      "28/28 [==============================] - 1s 34ms/step - loss: 4.2331e-04 - mean_absolute_error: 0.0153 - val_loss: 0.0051 - val_mean_absolute_error: 0.0563\n",
      "Epoch 9/100\n",
      "28/28 [==============================] - 1s 34ms/step - loss: 4.1519e-04 - mean_absolute_error: 0.0148 - val_loss: 0.0037 - val_mean_absolute_error: 0.0467\n",
      "Epoch 10/100\n",
      "28/28 [==============================] - 1s 32ms/step - loss: 3.8853e-04 - mean_absolute_error: 0.0145 - val_loss: 0.0037 - val_mean_absolute_error: 0.0463\n",
      "Epoch 11/100\n",
      "28/28 [==============================] - 1s 34ms/step - loss: 4.1915e-04 - mean_absolute_error: 0.0150 - val_loss: 0.0043 - val_mean_absolute_error: 0.0507\n",
      "Epoch 12/100\n",
      "28/28 [==============================] - 1s 37ms/step - loss: 4.3963e-04 - mean_absolute_error: 0.0154 - val_loss: 0.0042 - val_mean_absolute_error: 0.0509\n",
      "Epoch 13/100\n",
      "28/28 [==============================] - 1s 47ms/step - loss: 3.5439e-04 - mean_absolute_error: 0.0138 - val_loss: 0.0040 - val_mean_absolute_error: 0.0491\n",
      "Epoch 14/100\n",
      "28/28 [==============================] - 1s 35ms/step - loss: 3.5638e-04 - mean_absolute_error: 0.0138 - val_loss: 0.0042 - val_mean_absolute_error: 0.0505\n",
      "Epoch 15/100\n",
      "28/28 [==============================] - 1s 34ms/step - loss: 3.2939e-04 - mean_absolute_error: 0.0133 - val_loss: 0.0032 - val_mean_absolute_error: 0.0436\n",
      "Epoch 16/100\n",
      "28/28 [==============================] - 1s 33ms/step - loss: 3.4633e-04 - mean_absolute_error: 0.0136 - val_loss: 0.0027 - val_mean_absolute_error: 0.0390\n",
      "Epoch 17/100\n",
      "28/28 [==============================] - 1s 33ms/step - loss: 3.3274e-04 - mean_absolute_error: 0.0133 - val_loss: 0.0061 - val_mean_absolute_error: 0.0638\n",
      "Epoch 18/100\n",
      "28/28 [==============================] - 1s 33ms/step - loss: 3.3437e-04 - mean_absolute_error: 0.0135 - val_loss: 0.0036 - val_mean_absolute_error: 0.0475\n",
      "Epoch 19/100\n",
      "28/28 [==============================] - 1s 33ms/step - loss: 3.2053e-04 - mean_absolute_error: 0.0132 - val_loss: 0.0039 - val_mean_absolute_error: 0.0500\n",
      "Epoch 20/100\n",
      "28/28 [==============================] - 1s 33ms/step - loss: 3.0536e-04 - mean_absolute_error: 0.0126 - val_loss: 0.0066 - val_mean_absolute_error: 0.0676\n",
      "Epoch 21/100\n",
      "28/28 [==============================] - 1s 33ms/step - loss: 3.1899e-04 - mean_absolute_error: 0.0130 - val_loss: 0.0037 - val_mean_absolute_error: 0.0475\n",
      "Epoch 22/100\n",
      "28/28 [==============================] - 1s 33ms/step - loss: 3.0243e-04 - mean_absolute_error: 0.0129 - val_loss: 0.0042 - val_mean_absolute_error: 0.0517\n",
      "Epoch 23/100\n",
      "28/28 [==============================] - 1s 34ms/step - loss: 2.8721e-04 - mean_absolute_error: 0.0125 - val_loss: 0.0038 - val_mean_absolute_error: 0.0481\n",
      "Epoch 24/100\n",
      "28/28 [==============================] - 1s 36ms/step - loss: 2.8524e-04 - mean_absolute_error: 0.0124 - val_loss: 0.0047 - val_mean_absolute_error: 0.0556\n",
      "Epoch 25/100\n",
      "28/28 [==============================] - 1s 34ms/step - loss: 2.9709e-04 - mean_absolute_error: 0.0127 - val_loss: 0.0020 - val_mean_absolute_error: 0.0329\n",
      "Epoch 26/100\n",
      "28/28 [==============================] - 1s 32ms/step - loss: 2.8813e-04 - mean_absolute_error: 0.0125 - val_loss: 0.0039 - val_mean_absolute_error: 0.0494\n",
      "Epoch 27/100\n",
      "28/28 [==============================] - 1s 33ms/step - loss: 3.0037e-04 - mean_absolute_error: 0.0128 - val_loss: 0.0072 - val_mean_absolute_error: 0.0716\n",
      "Epoch 28/100\n",
      "28/28 [==============================] - 1s 33ms/step - loss: 2.9664e-04 - mean_absolute_error: 0.0129 - val_loss: 0.0056 - val_mean_absolute_error: 0.0618\n",
      "Epoch 29/100\n",
      "28/28 [==============================] - 1s 33ms/step - loss: 2.9759e-04 - mean_absolute_error: 0.0128 - val_loss: 0.0014 - val_mean_absolute_error: 0.0276\n",
      "Epoch 30/100\n",
      "28/28 [==============================] - 1s 32ms/step - loss: 3.4480e-04 - mean_absolute_error: 0.0141 - val_loss: 0.0011 - val_mean_absolute_error: 0.0246\n",
      "Epoch 31/100\n",
      "28/28 [==============================] - 1s 32ms/step - loss: 2.6217e-04 - mean_absolute_error: 0.0120 - val_loss: 0.0023 - val_mean_absolute_error: 0.0377\n",
      "Epoch 32/100\n",
      "28/28 [==============================] - 1s 32ms/step - loss: 2.4907e-04 - mean_absolute_error: 0.0115 - val_loss: 0.0026 - val_mean_absolute_error: 0.0407\n",
      "Epoch 33/100\n",
      "28/28 [==============================] - 1s 32ms/step - loss: 2.7553e-04 - mean_absolute_error: 0.0119 - val_loss: 0.0054 - val_mean_absolute_error: 0.0621\n",
      "Epoch 34/100\n",
      "28/28 [==============================] - 1s 33ms/step - loss: 2.8729e-04 - mean_absolute_error: 0.0125 - val_loss: 0.0035 - val_mean_absolute_error: 0.0476\n",
      "Epoch 35/100\n",
      "28/28 [==============================] - 1s 32ms/step - loss: 2.7106e-04 - mean_absolute_error: 0.0119 - val_loss: 0.0032 - val_mean_absolute_error: 0.0434\n",
      "Epoch 36/100\n",
      "28/28 [==============================] - 1s 32ms/step - loss: 2.3782e-04 - mean_absolute_error: 0.0114 - val_loss: 0.0027 - val_mean_absolute_error: 0.0398\n",
      "Epoch 37/100\n",
      "28/28 [==============================] - 1s 34ms/step - loss: 2.2473e-04 - mean_absolute_error: 0.0111 - val_loss: 0.0026 - val_mean_absolute_error: 0.0394\n",
      "Epoch 38/100\n",
      "28/28 [==============================] - 1s 33ms/step - loss: 2.2428e-04 - mean_absolute_error: 0.0110 - val_loss: 0.0024 - val_mean_absolute_error: 0.0381\n",
      "Epoch 39/100\n",
      "28/28 [==============================] - 1s 32ms/step - loss: 2.2204e-04 - mean_absolute_error: 0.0109 - val_loss: 0.0035 - val_mean_absolute_error: 0.0477\n",
      "Epoch 40/100\n",
      "28/28 [==============================] - 1s 39ms/step - loss: 2.4818e-04 - mean_absolute_error: 0.0116 - val_loss: 0.0024 - val_mean_absolute_error: 0.0392\n",
      "Epoch 41/100\n",
      "28/28 [==============================] - 1s 33ms/step - loss: 2.4285e-04 - mean_absolute_error: 0.0115 - val_loss: 0.0025 - val_mean_absolute_error: 0.0393\n",
      "Epoch 42/100\n",
      "28/28 [==============================] - 1s 37ms/step - loss: 2.2973e-04 - mean_absolute_error: 0.0112 - val_loss: 0.0018 - val_mean_absolute_error: 0.0327\n",
      "Epoch 43/100\n",
      "28/28 [==============================] - 1s 35ms/step - loss: 2.6763e-04 - mean_absolute_error: 0.0122 - val_loss: 0.0021 - val_mean_absolute_error: 0.0345\n",
      "Epoch 44/100\n",
      "28/28 [==============================] - 1s 32ms/step - loss: 2.1582e-04 - mean_absolute_error: 0.0108 - val_loss: 0.0020 - val_mean_absolute_error: 0.0350\n",
      "Epoch 45/100\n",
      "28/28 [==============================] - 1s 32ms/step - loss: 2.2262e-04 - mean_absolute_error: 0.0111 - val_loss: 0.0024 - val_mean_absolute_error: 0.0388\n",
      "Epoch 46/100\n",
      "28/28 [==============================] - 1s 32ms/step - loss: 2.1803e-04 - mean_absolute_error: 0.0107 - val_loss: 0.0017 - val_mean_absolute_error: 0.0311\n",
      "Epoch 47/100\n",
      "28/28 [==============================] - 1s 31ms/step - loss: 1.9663e-04 - mean_absolute_error: 0.0102 - val_loss: 0.0016 - val_mean_absolute_error: 0.0301\n",
      "Epoch 48/100\n",
      "28/28 [==============================] - 1s 33ms/step - loss: 2.1869e-04 - mean_absolute_error: 0.0107 - val_loss: 0.0020 - val_mean_absolute_error: 0.0340\n",
      "Epoch 49/100\n",
      "28/28 [==============================] - 1s 33ms/step - loss: 2.0821e-04 - mean_absolute_error: 0.0105 - val_loss: 0.0029 - val_mean_absolute_error: 0.0432\n",
      "Epoch 50/100\n",
      "28/28 [==============================] - 1s 33ms/step - loss: 2.3735e-04 - mean_absolute_error: 0.0115 - val_loss: 0.0023 - val_mean_absolute_error: 0.0373\n",
      "Epoch 51/100\n",
      "28/28 [==============================] - 1s 32ms/step - loss: 1.9933e-04 - mean_absolute_error: 0.0103 - val_loss: 0.0022 - val_mean_absolute_error: 0.0362\n",
      "Epoch 52/100\n",
      "28/28 [==============================] - 1s 34ms/step - loss: 2.0226e-04 - mean_absolute_error: 0.0103 - val_loss: 0.0014 - val_mean_absolute_error: 0.0280\n",
      "Epoch 53/100\n",
      "28/28 [==============================] - 1s 32ms/step - loss: 2.1465e-04 - mean_absolute_error: 0.0107 - val_loss: 0.0019 - val_mean_absolute_error: 0.0339\n",
      "Epoch 54/100\n",
      "28/28 [==============================] - 1s 33ms/step - loss: 1.9009e-04 - mean_absolute_error: 0.0100 - val_loss: 0.0028 - val_mean_absolute_error: 0.0428\n",
      "Epoch 55/100\n",
      "28/28 [==============================] - 1s 32ms/step - loss: 2.0381e-04 - mean_absolute_error: 0.0104 - val_loss: 0.0015 - val_mean_absolute_error: 0.0290\n",
      "Epoch 56/100\n",
      "28/28 [==============================] - 1s 32ms/step - loss: 1.8664e-04 - mean_absolute_error: 0.0099 - val_loss: 0.0019 - val_mean_absolute_error: 0.0345\n",
      "Epoch 57/100\n",
      "28/28 [==============================] - 1s 32ms/step - loss: 1.7744e-04 - mean_absolute_error: 0.0096 - val_loss: 0.0015 - val_mean_absolute_error: 0.0293\n",
      "Epoch 58/100\n",
      "28/28 [==============================] - 1s 32ms/step - loss: 1.6983e-04 - mean_absolute_error: 0.0093 - val_loss: 0.0015 - val_mean_absolute_error: 0.0302\n",
      "Epoch 59/100\n",
      "28/28 [==============================] - 1s 35ms/step - loss: 1.7348e-04 - mean_absolute_error: 0.0096 - val_loss: 0.0010 - val_mean_absolute_error: 0.0238\n",
      "Epoch 60/100\n",
      "28/28 [==============================] - 1s 34ms/step - loss: 2.0711e-04 - mean_absolute_error: 0.0107 - val_loss: 6.9389e-04 - val_mean_absolute_error: 0.0199\n",
      "Epoch 61/100\n",
      "28/28 [==============================] - 1s 32ms/step - loss: 2.0330e-04 - mean_absolute_error: 0.0107 - val_loss: 0.0036 - val_mean_absolute_error: 0.0502\n",
      "Epoch 62/100\n",
      "28/28 [==============================] - 1s 32ms/step - loss: 1.7130e-04 - mean_absolute_error: 0.0095 - val_loss: 0.0023 - val_mean_absolute_error: 0.0377\n",
      "Epoch 63/100\n",
      "28/28 [==============================] - 1s 32ms/step - loss: 1.7350e-04 - mean_absolute_error: 0.0095 - val_loss: 0.0012 - val_mean_absolute_error: 0.0262\n",
      "Epoch 64/100\n",
      "28/28 [==============================] - 1s 32ms/step - loss: 1.7681e-04 - mean_absolute_error: 0.0097 - val_loss: 0.0017 - val_mean_absolute_error: 0.0324\n",
      "Epoch 65/100\n",
      "28/28 [==============================] - 1s 34ms/step - loss: 1.9607e-04 - mean_absolute_error: 0.0102 - val_loss: 0.0019 - val_mean_absolute_error: 0.0348\n",
      "Epoch 66/100\n",
      "28/28 [==============================] - 1s 33ms/step - loss: 1.7603e-04 - mean_absolute_error: 0.0098 - val_loss: 0.0011 - val_mean_absolute_error: 0.0252\n",
      "Epoch 67/100\n",
      "28/28 [==============================] - 1s 35ms/step - loss: 1.6057e-04 - mean_absolute_error: 0.0092 - val_loss: 0.0013 - val_mean_absolute_error: 0.0281\n",
      "Epoch 68/100\n",
      "28/28 [==============================] - 1s 33ms/step - loss: 1.6818e-04 - mean_absolute_error: 0.0094 - val_loss: 0.0014 - val_mean_absolute_error: 0.0293\n",
      "Epoch 69/100\n",
      "28/28 [==============================] - 1s 34ms/step - loss: 1.5278e-04 - mean_absolute_error: 0.0089 - val_loss: 0.0027 - val_mean_absolute_error: 0.0433\n",
      "Epoch 70/100\n",
      "28/28 [==============================] - 1s 33ms/step - loss: 1.6069e-04 - mean_absolute_error: 0.0093 - val_loss: 8.7465e-04 - val_mean_absolute_error: 0.0216\n",
      "Epoch 71/100\n",
      "28/28 [==============================] - 1s 32ms/step - loss: 1.5866e-04 - mean_absolute_error: 0.0092 - val_loss: 0.0010 - val_mean_absolute_error: 0.0235\n",
      "Epoch 72/100\n",
      "28/28 [==============================] - 1s 33ms/step - loss: 1.5660e-04 - mean_absolute_error: 0.0090 - val_loss: 0.0014 - val_mean_absolute_error: 0.0298\n",
      "Epoch 73/100\n",
      "28/28 [==============================] - 1s 32ms/step - loss: 1.6442e-04 - mean_absolute_error: 0.0093 - val_loss: 5.9834e-04 - val_mean_absolute_error: 0.0180\n",
      "Epoch 74/100\n",
      "28/28 [==============================] - 1s 32ms/step - loss: 1.5159e-04 - mean_absolute_error: 0.0088 - val_loss: 7.7283e-04 - val_mean_absolute_error: 0.0202\n",
      "Epoch 75/100\n",
      "28/28 [==============================] - 1s 33ms/step - loss: 1.5390e-04 - mean_absolute_error: 0.0090 - val_loss: 0.0016 - val_mean_absolute_error: 0.0320\n",
      "Epoch 76/100\n",
      "28/28 [==============================] - 1s 33ms/step - loss: 1.4731e-04 - mean_absolute_error: 0.0087 - val_loss: 0.0013 - val_mean_absolute_error: 0.0278\n",
      "Epoch 77/100\n",
      "28/28 [==============================] - 1s 34ms/step - loss: 1.4074e-04 - mean_absolute_error: 0.0086 - val_loss: 0.0015 - val_mean_absolute_error: 0.0320\n",
      "Epoch 78/100\n",
      "28/28 [==============================] - 1s 33ms/step - loss: 1.5305e-04 - mean_absolute_error: 0.0090 - val_loss: 0.0011 - val_mean_absolute_error: 0.0244\n",
      "Epoch 79/100\n",
      "28/28 [==============================] - 1s 33ms/step - loss: 1.4120e-04 - mean_absolute_error: 0.0088 - val_loss: 7.8814e-04 - val_mean_absolute_error: 0.0207\n",
      "Epoch 80/100\n",
      "28/28 [==============================] - 1s 33ms/step - loss: 1.6674e-04 - mean_absolute_error: 0.0094 - val_loss: 5.3724e-04 - val_mean_absolute_error: 0.0170\n",
      "Epoch 81/100\n",
      "28/28 [==============================] - 1s 34ms/step - loss: 1.7465e-04 - mean_absolute_error: 0.0097 - val_loss: 9.3549e-04 - val_mean_absolute_error: 0.0240\n",
      "Epoch 82/100\n",
      "28/28 [==============================] - 1s 32ms/step - loss: 1.4862e-04 - mean_absolute_error: 0.0088 - val_loss: 0.0013 - val_mean_absolute_error: 0.0280\n",
      "Epoch 83/100\n",
      "28/28 [==============================] - 1s 34ms/step - loss: 1.3837e-04 - mean_absolute_error: 0.0084 - val_loss: 9.0192e-04 - val_mean_absolute_error: 0.0227\n",
      "Epoch 84/100\n",
      "28/28 [==============================] - 1s 32ms/step - loss: 1.2769e-04 - mean_absolute_error: 0.0082 - val_loss: 0.0017 - val_mean_absolute_error: 0.0328\n",
      "Epoch 85/100\n",
      "28/28 [==============================] - 1s 34ms/step - loss: 1.4004e-04 - mean_absolute_error: 0.0086 - val_loss: 8.2948e-04 - val_mean_absolute_error: 0.0210\n",
      "Epoch 86/100\n",
      "28/28 [==============================] - 1s 32ms/step - loss: 1.4636e-04 - mean_absolute_error: 0.0089 - val_loss: 8.2554e-04 - val_mean_absolute_error: 0.0213\n",
      "Epoch 87/100\n",
      "28/28 [==============================] - 1s 32ms/step - loss: 1.2793e-04 - mean_absolute_error: 0.0082 - val_loss: 0.0016 - val_mean_absolute_error: 0.0319\n",
      "Epoch 88/100\n",
      "28/28 [==============================] - 1s 33ms/step - loss: 1.4175e-04 - mean_absolute_error: 0.0086 - val_loss: 5.3922e-04 - val_mean_absolute_error: 0.0172\n",
      "Epoch 89/100\n",
      "28/28 [==============================] - 1s 34ms/step - loss: 1.3783e-04 - mean_absolute_error: 0.0084 - val_loss: 6.6209e-04 - val_mean_absolute_error: 0.0185\n",
      "Epoch 90/100\n",
      "28/28 [==============================] - 1s 32ms/step - loss: 1.2677e-04 - mean_absolute_error: 0.0081 - val_loss: 0.0017 - val_mean_absolute_error: 0.0332\n",
      "Epoch 91/100\n",
      "28/28 [==============================] - 1s 33ms/step - loss: 1.2505e-04 - mean_absolute_error: 0.0082 - val_loss: 5.2412e-04 - val_mean_absolute_error: 0.0167\n",
      "Epoch 92/100\n",
      "28/28 [==============================] - 1s 32ms/step - loss: 1.2061e-04 - mean_absolute_error: 0.0079 - val_loss: 8.0274e-04 - val_mean_absolute_error: 0.0213\n",
      "Epoch 93/100\n",
      "28/28 [==============================] - 1s 34ms/step - loss: 1.2418e-04 - mean_absolute_error: 0.0080 - val_loss: 0.0021 - val_mean_absolute_error: 0.0386\n",
      "Epoch 94/100\n",
      "28/28 [==============================] - 1s 39ms/step - loss: 1.3460e-04 - mean_absolute_error: 0.0086 - val_loss: 6.5789e-04 - val_mean_absolute_error: 0.0188\n",
      "Epoch 95/100\n",
      "28/28 [==============================] - 1s 35ms/step - loss: 1.2995e-04 - mean_absolute_error: 0.0082 - val_loss: 0.0012 - val_mean_absolute_error: 0.0274\n",
      "Epoch 96/100\n",
      "28/28 [==============================] - 1s 36ms/step - loss: 1.4096e-04 - mean_absolute_error: 0.0086 - val_loss: 0.0012 - val_mean_absolute_error: 0.0272\n",
      "Epoch 97/100\n",
      "28/28 [==============================] - 1s 37ms/step - loss: 1.3420e-04 - mean_absolute_error: 0.0085 - val_loss: 0.0016 - val_mean_absolute_error: 0.0331\n",
      "Epoch 98/100\n",
      "28/28 [==============================] - 1s 33ms/step - loss: 1.2673e-04 - mean_absolute_error: 0.0081 - val_loss: 5.2320e-04 - val_mean_absolute_error: 0.0169\n",
      "Epoch 99/100\n",
      "28/28 [==============================] - 1s 33ms/step - loss: 1.1939e-04 - mean_absolute_error: 0.0078 - val_loss: 7.9773e-04 - val_mean_absolute_error: 0.0201\n",
      "Epoch 100/100\n",
      "28/28 [==============================] - 1s 33ms/step - loss: 1.2219e-04 - mean_absolute_error: 0.0079 - val_loss: 0.0012 - val_mean_absolute_error: 0.0266\n"
     ]
    },
    {
     "data": {
      "text/plain": [
       "<keras.callbacks.History at 0x1d101665a30>"
      ]
     },
     "execution_count": 56,
     "metadata": {},
     "output_type": "execute_result"
    }
   ],
   "source": [
    "# fitting the model by iterating the dataset over 100 times(100 epochs)\n",
    "model.fit(train_seq, train_label, epochs=100,validation_data=(test_seq, test_label), verbose=1)"
   ]
  },
  {
   "cell_type": "code",
   "execution_count": 57,
   "id": "7ac85b1e",
   "metadata": {},
   "outputs": [
    {
     "name": "stdout",
     "output_type": "stream",
     "text": [
      "9/9 [==============================] - 1s 10ms/step\n"
     ]
    },
    {
     "data": {
      "text/plain": [
       "array([[0.40134126, 0.39790046],\n",
       "       [0.4016015 , 0.39767465],\n",
       "       [0.397627  , 0.3933278 ],\n",
       "       [0.39950964, 0.39557028],\n",
       "       [0.402757  , 0.39912042]], dtype=float32)"
      ]
     },
     "execution_count": 57,
     "metadata": {},
     "output_type": "execute_result"
    }
   ],
   "source": [
    "# predicting the values after running the model\n",
    "test_predicted = model.predict(test_seq)\n",
    "test_predicted[:5]"
   ]
  },
  {
   "cell_type": "code",
   "execution_count": 58,
   "id": "b2e6301c",
   "metadata": {},
   "outputs": [
    {
     "data": {
      "text/plain": [
       "array([[1415.0546, 1405.7048],\n",
       "       [1415.5371, 1405.2864],\n",
       "       [1408.1687, 1397.2301],\n",
       "       [1411.6588, 1401.3862],\n",
       "       [1417.6792, 1407.9658]], dtype=float32)"
      ]
     },
     "execution_count": 58,
     "metadata": {},
     "output_type": "execute_result"
    }
   ],
   "source": [
    "# Inversing normalization/scaling on predicted data \n",
    "test_inverse_predicted = MMS.inverse_transform(test_predicted)\n",
    "test_inverse_predicted[:5]"
   ]
  },
  {
   "cell_type": "markdown",
   "id": "6688e1e2",
   "metadata": {},
   "source": [
    "## STEP 5 :  VISUALIZING ACTUAL VS PREDICTED DATA"
   ]
  },
  {
   "cell_type": "code",
   "execution_count": 59,
   "id": "4913627a",
   "metadata": {},
   "outputs": [],
   "source": [
    "# Merging actual and predicted data for better visualization\n",
    "df_merge = pd.concat([df.iloc[-264:].copy(),\n",
    "                          pd.DataFrame(test_inverse_predicted,columns=['open_predicted','close_predicted'],\n",
    "                                       index=df.iloc[-264:].index)], axis=1)"
   ]
  },
  {
   "cell_type": "code",
   "execution_count": 60,
   "id": "637b7853",
   "metadata": {},
   "outputs": [
    {
     "data": {
      "text/html": [
       "<div>\n",
       "<style scoped>\n",
       "    .dataframe tbody tr th:only-of-type {\n",
       "        vertical-align: middle;\n",
       "    }\n",
       "\n",
       "    .dataframe tbody tr th {\n",
       "        vertical-align: top;\n",
       "    }\n",
       "\n",
       "    .dataframe thead th {\n",
       "        text-align: right;\n",
       "    }\n",
       "</style>\n",
       "<table border=\"1\" class=\"dataframe\">\n",
       "  <thead>\n",
       "    <tr style=\"text-align: right;\">\n",
       "      <th></th>\n",
       "      <th>open</th>\n",
       "      <th>close</th>\n",
       "      <th>open_predicted</th>\n",
       "      <th>close_predicted</th>\n",
       "    </tr>\n",
       "    <tr>\n",
       "      <th>date</th>\n",
       "      <th></th>\n",
       "      <th></th>\n",
       "      <th></th>\n",
       "      <th></th>\n",
       "    </tr>\n",
       "  </thead>\n",
       "  <tbody>\n",
       "    <tr>\n",
       "      <th>2020-05-27</th>\n",
       "      <td>1417.25</td>\n",
       "      <td>1417.84</td>\n",
       "      <td>1415.054565</td>\n",
       "      <td>1405.704834</td>\n",
       "    </tr>\n",
       "    <tr>\n",
       "      <th>2020-05-28</th>\n",
       "      <td>1396.86</td>\n",
       "      <td>1416.73</td>\n",
       "      <td>1415.537109</td>\n",
       "      <td>1405.286377</td>\n",
       "    </tr>\n",
       "    <tr>\n",
       "      <th>2020-05-29</th>\n",
       "      <td>1416.94</td>\n",
       "      <td>1428.92</td>\n",
       "      <td>1408.168701</td>\n",
       "      <td>1397.230103</td>\n",
       "    </tr>\n",
       "    <tr>\n",
       "      <th>2020-06-01</th>\n",
       "      <td>1418.39</td>\n",
       "      <td>1431.82</td>\n",
       "      <td>1411.658813</td>\n",
       "      <td>1401.386230</td>\n",
       "    </tr>\n",
       "    <tr>\n",
       "      <th>2020-06-02</th>\n",
       "      <td>1430.55</td>\n",
       "      <td>1439.22</td>\n",
       "      <td>1417.679199</td>\n",
       "      <td>1407.965820</td>\n",
       "    </tr>\n",
       "  </tbody>\n",
       "</table>\n",
       "</div>"
      ],
      "text/plain": [
       "               open    close  open_predicted  close_predicted\n",
       "date                                                         \n",
       "2020-05-27  1417.25  1417.84     1415.054565      1405.704834\n",
       "2020-05-28  1396.86  1416.73     1415.537109      1405.286377\n",
       "2020-05-29  1416.94  1428.92     1408.168701      1397.230103\n",
       "2020-06-01  1418.39  1431.82     1411.658813      1401.386230\n",
       "2020-06-02  1430.55  1439.22     1417.679199      1407.965820"
      ]
     },
     "execution_count": 60,
     "metadata": {},
     "output_type": "execute_result"
    }
   ],
   "source": [
    "# Inversing normalization/scaling \n",
    "df_merge[['open','close']] = MMS.inverse_transform(df_merge[['open','close']])\n",
    "df_merge.head()"
   ]
  },
  {
   "cell_type": "code",
   "execution_count": 61,
   "id": "0e552918",
   "metadata": {},
   "outputs": [
    {
     "data": {
      "image/png": "[encoded data removed]",
      "text/plain": [
       "<Figure size 720x432 with 1 Axes>"
      ]
     },
     "metadata": {
      "needs_background": "light"
     },
     "output_type": "display_data"
    }
   ],
   "source": [
    "# plotting the actual open and predicted open prices on date index\n",
    "df_merge[['open','open_predicted']].plot(figsize=(10,6))\n",
    "plt.xticks(rotation=45)\n",
    "plt.xlabel('Date',size=15)\n",
    "plt.ylabel('Stock Price',size=15)\n",
    "plt.title('Actual vs Predicted for open price',size=15)\n",
    "plt.show()"
   ]
  },
  {
   "cell_type": "code",
   "execution_count": 62,
   "id": "8b19365b",
   "metadata": {
    "scrolled": false
   },
   "outputs": [
    {
     "data": {
      "image/png": "[encoded data removed]",
      "text/plain": [
       "<Figure size 720x432 with 1 Axes>"
      ]
     },
     "metadata": {
      "needs_background": "light"
     },
     "output_type": "display_data"
    }
   ],
   "source": [
    "# plotting the actual close and predicted close prices on date index \n",
    "df_merge[['close','close_predicted']].plot(figsize=(10,6))\n",
    "plt.xticks(rotation=45)\n",
    "plt.xlabel('Date',size=15)\n",
    "plt.ylabel('Stock Price',size=15)\n",
    "plt.title('Actual vs Predicted for close price',size=15)\n",
    "plt.show()"
   ]
  },
  {
   "cell_type": "markdown",
   "id": "822b3580",
   "metadata": {},
   "source": [
    "## STEP 6. PREDICTING UPCOMING 10 DAYS"
   ]
  },
  {
   "cell_type": "code",
   "execution_count": 63,
   "id": "13e1479e",
   "metadata": {},
   "outputs": [
    {
     "data": {
      "text/html": [
       "<div>\n",
       "<style scoped>\n",
       "    .dataframe tbody tr th:only-of-type {\n",
       "        vertical-align: middle;\n",
       "    }\n",
       "\n",
       "    .dataframe tbody tr th {\n",
       "        vertical-align: top;\n",
       "    }\n",
       "\n",
       "    .dataframe thead th {\n",
       "        text-align: right;\n",
       "    }\n",
       "</style>\n",
       "<table border=\"1\" class=\"dataframe\">\n",
       "  <thead>\n",
       "    <tr style=\"text-align: right;\">\n",
       "      <th></th>\n",
       "      <th>open</th>\n",
       "      <th>close</th>\n",
       "      <th>open_predicted</th>\n",
       "      <th>close_predicted</th>\n",
       "    </tr>\n",
       "  </thead>\n",
       "  <tbody>\n",
       "    <tr>\n",
       "      <th>2021-06-09</th>\n",
       "      <td>2499.50</td>\n",
       "      <td>2491.40</td>\n",
       "      <td>2419.937012</td>\n",
       "      <td>2351.718994</td>\n",
       "    </tr>\n",
       "    <tr>\n",
       "      <th>2021-06-10</th>\n",
       "      <td>2494.01</td>\n",
       "      <td>2521.60</td>\n",
       "      <td>2429.809814</td>\n",
       "      <td>2357.459229</td>\n",
       "    </tr>\n",
       "    <tr>\n",
       "      <th>2021-06-11</th>\n",
       "      <td>2524.92</td>\n",
       "      <td>2513.93</td>\n",
       "      <td>2435.215576</td>\n",
       "      <td>2360.057861</td>\n",
       "    </tr>\n",
       "    <tr>\n",
       "      <th>2021-06-12</th>\n",
       "      <td>NaN</td>\n",
       "      <td>NaN</td>\n",
       "      <td>NaN</td>\n",
       "      <td>NaN</td>\n",
       "    </tr>\n",
       "    <tr>\n",
       "      <th>2021-06-13</th>\n",
       "      <td>NaN</td>\n",
       "      <td>NaN</td>\n",
       "      <td>NaN</td>\n",
       "      <td>NaN</td>\n",
       "    </tr>\n",
       "    <tr>\n",
       "      <th>2021-06-14</th>\n",
       "      <td>NaN</td>\n",
       "      <td>NaN</td>\n",
       "      <td>NaN</td>\n",
       "      <td>NaN</td>\n",
       "    </tr>\n",
       "    <tr>\n",
       "      <th>2021-06-15</th>\n",
       "      <td>NaN</td>\n",
       "      <td>NaN</td>\n",
       "      <td>NaN</td>\n",
       "      <td>NaN</td>\n",
       "    </tr>\n",
       "    <tr>\n",
       "      <th>2021-06-16</th>\n",
       "      <td>NaN</td>\n",
       "      <td>NaN</td>\n",
       "      <td>NaN</td>\n",
       "      <td>NaN</td>\n",
       "    </tr>\n",
       "  </tbody>\n",
       "</table>\n",
       "</div>"
      ],
      "text/plain": [
       "               open    close  open_predicted  close_predicted\n",
       "2021-06-09  2499.50  2491.40     2419.937012      2351.718994\n",
       "2021-06-10  2494.01  2521.60     2429.809814      2357.459229\n",
       "2021-06-11  2524.92  2513.93     2435.215576      2360.057861\n",
       "2021-06-12      NaN      NaN             NaN              NaN\n",
       "2021-06-13      NaN      NaN             NaN              NaN\n",
       "2021-06-14      NaN      NaN             NaN              NaN\n",
       "2021-06-15      NaN      NaN             NaN              NaN\n",
       "2021-06-16      NaN      NaN             NaN              NaN"
      ]
     },
     "execution_count": 63,
     "metadata": {},
     "output_type": "execute_result"
    }
   ],
   "source": [
    "# Creating a dataframe and adding 10 days to existing index \n",
    "\n",
    "df_merge = df_merge.append(pd.DataFrame(columns=df_merge.columns,\n",
    "                                        index=pd.date_range(start=df_merge.index[-1], periods=11, freq='D', closed='right')))\n",
    "df_merge['2021-06-09':'2021-06-16']"
   ]
  },
  {
   "cell_type": "code",
   "execution_count": 64,
   "id": "e6822e89",
   "metadata": {},
   "outputs": [],
   "source": [
    "# creating a DataFrame and filling values of open and close column\n",
    "upcoming_prediction = pd.DataFrame(columns=['open','close'],index=df_merge.index)\n",
    "upcoming_prediction.index=pd.to_datetime(upcoming_prediction.index)"
   ]
  },
  {
   "cell_type": "code",
   "execution_count": 65,
   "id": "8cb8738d",
   "metadata": {},
   "outputs": [
    {
     "name": "stdout",
     "output_type": "stream",
     "text": [
      "1/1 [==============================] - 0s 36ms/step\n",
      "1/1 [==============================] - 0s 23ms/step\n",
      "1/1 [==============================] - 0s 30ms/step\n",
      "1/1 [==============================] - 0s 24ms/step\n",
      "1/1 [==============================] - 0s 20ms/step\n",
      "1/1 [==============================] - 0s 21ms/step\n",
      "1/1 [==============================] - 0s 24ms/step\n",
      "1/1 [==============================] - 0s 31ms/step\n",
      "1/1 [==============================] - 0s 26ms/step\n",
      "1/1 [==============================] - 0s 30ms/step\n"
     ]
    }
   ],
   "source": [
    "curr_seq = test_seq[-1:]\n",
    "\n",
    "for i in range(-10,0):\n",
    "  up_pred = model.predict(curr_seq)\n",
    "  upcoming_prediction.iloc[i] = up_pred\n",
    "  curr_seq = np.append(curr_seq[0][1:],up_pred,axis=0)\n",
    "  curr_seq = curr_seq.reshape(test_seq[-1:].shape)"
   ]
  },
  {
   "cell_type": "code",
   "execution_count": 66,
   "id": "37525dd7",
   "metadata": {},
   "outputs": [],
   "source": [
    "# inversing Normalization/scaling\n",
    "upcoming_prediction[['open','close']] = MMS.inverse_transform(upcoming_prediction[['open','close']])"
   ]
  },
  {
   "cell_type": "code",
   "execution_count": 67,
   "id": "3c7187b0",
   "metadata": {},
   "outputs": [
    {
     "data": {
      "image/png": "[encoded data removed]",
      "text/plain": [
       "<Figure size 720x360 with 1 Axes>"
      ]
     },
     "metadata": {
      "needs_background": "light"
     },
     "output_type": "display_data"
    }
   ],
   "source": [
    "# plotting Upcoming Open price on date index\n",
    "fig,ax=plt.subplots(figsize=(10,5))\n",
    "ax.plot(df_merge.loc['2021-04-01':,'open'],label='Current Open Price')\n",
    "ax.plot(upcoming_prediction.loc['2021-04-01':,'open'],label='Upcoming Open Price')\n",
    "plt.setp(ax.xaxis.get_majorticklabels(), rotation=45)\n",
    "ax.set_xlabel('Date',size=15)\n",
    "ax.set_ylabel('Stock Price',size=15)\n",
    "ax.set_title('Upcoming Open price prediction',size=15)\n",
    "ax.legend()\n",
    "fig.show()"
   ]
  },
  {
   "cell_type": "code",
   "execution_count": 68,
   "id": "4d17464d",
   "metadata": {},
   "outputs": [
    {
     "data": {
      "image/png": "[encoded data removed]",
      "text/plain": [
       "<Figure size 720x360 with 1 Axes>"
      ]
     },
     "metadata": {
      "needs_background": "light"
     },
     "output_type": "display_data"
    }
   ],
   "source": [
    "# plotting Upcoming Close price on date index\n",
    "fig,ax=plt.subplots(figsize=(10,5))\n",
    "ax.plot(df_merge.loc['2021-04-01':,'close'],label='Current close Price')\n",
    "ax.plot(upcoming_prediction.loc['2021-04-01':,'close'],label='Upcoming close Price')\n",
    "plt.setp(ax.xaxis.get_majorticklabels(), rotation=45)\n",
    "ax.set_xlabel('Date',size=15)\n",
    "ax.set_ylabel('Stock Price',size=15)\n",
    "ax.set_title('Upcoming close price prediction',size=15)\n",
    "ax.legend()\n",
    "fig.show()"
   ]
  },
  {
   "cell_type": "markdown",
   "id": "1a008259",
   "metadata": {},
   "source": [
    "# THANK YOU!"
   ]
  },
  {
   "cell_type": "code",
   "execution_count": null,
   "id": "d60878c1",
   "metadata": {},
   "outputs": [],
   "source": []
  }
 ],
 "metadata": {
  "kernelspec": {
   "display_name": "Python 3",
   "language": "python",
   "name": "python3"
  },
  "language_info": {
   "codemirror_mode": {
    "name": "ipython",
    "version": 3
   },
   "file_extension": ".py",
   "mimetype": "text/x-python",
   "name": "python",
   "nbconvert_exporter": "python",
   "pygments_lexer": "ipython3",
   "version": "3.8.8"
  }
 },
 "nbformat": 4,
 "nbformat_minor": 5
}
